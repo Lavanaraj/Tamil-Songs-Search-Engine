{
  "nbformat": 4,
  "nbformat_minor": 0,
  "metadata": {
    "colab": {
      "name": "web_scraping.ipynb",
      "provenance": [],
      "collapsed_sections": []
    },
    "kernelspec": {
      "name": "python3",
      "display_name": "Python 3"
    }
  },
  "cells": [
    {
      "cell_type": "code",
      "metadata": {
        "id": "Y-EcT-Fgaddx",
        "colab_type": "code",
        "colab": {}
      },
      "source": [
        "import requests\n",
        "import numpy as np\n",
        "import pandas as pd\n",
        "import json\n",
        "import random\n",
        "import codecs\n",
        "import unicodedata\n",
        "from bs4 import BeautifulSoup\n",
        "from translate import Translator"
      ],
      "execution_count": 101,
      "outputs": []
    },
    {
      "cell_type": "code",
      "metadata": {
        "id": "D5akYWyMaw07",
        "colab_type": "code",
        "colab": {}
      },
      "source": [
        "def getMovies(): \n",
        "  url = 'https://www.tamilpaa.com/tamil-movies-list'\n",
        "  r = requests.get(url)\n",
        "  content = r.content\n",
        "  soup = BeautifulSoup(content)\n",
        "  detail_content = soup.find('table', attrs = {'class': 'standard mb-50px'})\n",
        "  tablecontent = detail_content.find_all('tr')\n",
        "  movies = []\n",
        "  for tr in tablecontent[1:]:\n",
        "    song_details = {}\n",
        "    a_tags = tr.find_all('a')\n",
        "    td_tags = tr.find_all('td')\n",
        "    \n",
        "    song_details[\"movie_url\"] = a_tags[0].get('href')\n",
        "    song_details[\"year\"] = td_tags[1].get_text()\n",
        "    song_details[\"song_music\"] = td_tags[2].get_text()\n",
        "    song_details[\"actors\"] = td_tags[3].get_text()\n",
        "    movies.append(song_details)\n",
        "  return movies"
      ],
      "execution_count": 87,
      "outputs": []
    },
    {
      "cell_type": "code",
      "metadata": {
        "id": "PyJ6gx-ua6uv",
        "colab_type": "code",
        "colab": {}
      },
      "source": [
        "def getAllSongByMovie(movie):\n",
        "  songs_data = []\n",
        "  r = requests.get(movie[\"movie_url\"])\n",
        "  content = r.content\n",
        "  soup = BeautifulSoup(content)\n",
        "  detail_content = soup.find('table', attrs = {'class': 'standard'})\n",
        "  td_tags = detail_content.find_all('td')\n",
        "  movie[\"movie_name\"]= td_tags[2].get_text()\n",
        "  song_div = soup.find('div', attrs = {'class': 'tab-content clearfix', 'id': 'tab_1'})\n",
        "  song_li_tags =song_div.find_all('li')\n",
        "  \n",
        "  for song_li in song_li_tags:\n",
        "    song_details ={}\n",
        "    song_details[\"song_name\"]= song_li.find('a').get_text()\n",
        "    song_details[\"song_music\"] = movie[\"song_music\"]\n",
        "    song_details[\"song_url\"]= song_li.find('a').get('href')\n",
        "    songs_data.append(song_details)\n",
        "  movie[\"movie_song\"]=songs_data\n",
        "  return movie"
      ],
      "execution_count": 88,
      "outputs": []
    },
    {
      "cell_type": "code",
      "metadata": {
        "id": "oNNJ-cZRHjsv",
        "colab_type": "code",
        "colab": {}
      },
      "source": [
        "def getSingersAndLyricsBySong(song):\n",
        "  r = requests.get(song[\"song_url\"])\n",
        "  content = r.content\n",
        "  soup = BeautifulSoup(content)\n",
        "  detail_content = soup.find('table', attrs = {'class': 'standard mb-10px'})\n",
        "  tablecontent =detail_content.find_all('td')\n",
        "  song[\"song_singers\"]= tablecontent[4].get_text()\n",
        "  song_content = soup.find('div', attrs = {'class': 'info-box white-bg'})\n",
        "  song[\"song_lyrics\"]= (song_content.get_text()).strip()\n",
        "  del song[\"song_url\"]\n",
        "  return song"
      ],
      "execution_count": 89,
      "outputs": []
    },
    {
      "cell_type": "code",
      "metadata": {
        "id": "dF2Ezm7SDPQs",
        "colab_type": "code",
        "colab": {}
      },
      "source": [
        "movies_List=getMovies()\n",
        "a=0\n",
        "for movie in movies_List:\n",
        "  movie1=getAllSongByMovie(movie)\n",
        "  songs=movie1[\"movie_song\"]\n",
        "  b=0\n",
        "  for song in songs:\n",
        "    songs[b]=getSingersAndLyricsBySong(song)\n",
        "    b+=1\n",
        "  movies_List[a][\"movie_song\"]=songs\n",
        "  del movies_List[a][\"movie_url\"]\n"
      ],
      "execution_count": null,
      "outputs": []
    },
    {
      "cell_type": "code",
      "metadata": {
        "id": "xCkCtRzZ3pfN",
        "colab_type": "code",
        "colab": {}
      },
      "source": [
        "f = codecs.open('tamil_songs_scraped_lyrics.txt', 'w', encoding='utf-8')\n",
        "for line in movies_List:\n",
        "  try:\n",
        "      song_json = str(line).replace(\"\\'\", \"\\\"\")\n",
        "      f.write(song_json)\n",
        "      f.write('\\n')\n",
        "  except Exception as e:\n",
        "      print(e)"
      ],
      "execution_count": 102,
      "outputs": []
    }
  ]
}