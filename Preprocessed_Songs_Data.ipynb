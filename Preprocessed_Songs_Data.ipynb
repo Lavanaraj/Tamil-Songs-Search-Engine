{
  "nbformat": 4,
  "nbformat_minor": 0,
  "metadata": {
    "colab": {
      "name": "Preprocessed Songs Data.ipynb",
      "provenance": [],
      "collapsed_sections": []
    },
    "kernelspec": {
      "name": "python3",
      "display_name": "Python 3"
    }
  },
  "cells": [
    {
      "cell_type": "code",
      "metadata": {
        "id": "n296ijDgDXpU",
        "colab_type": "code",
        "colab": {}
      },
      "source": [
        "!pip install translate\n",
        "import json\n",
        "from translate import Translator\n",
        "import random"
      ],
      "execution_count": null,
      "outputs": []
    },
    {
      "cell_type": "code",
      "metadata": {
        "id": "juJ2yq_xDbcy",
        "colab_type": "code",
        "colab": {}
      },
      "source": [
        "def song(name):\n",
        "  name=name.split('(')\n",
        "  return name[1][:-3]\n",
        "  \n",
        "def songRating():\n",
        "  return random.randint(1,10)\n",
        "\n",
        "def songType():\n",
        "  st=[\"நாட்டுப்புற பாட்டு\",\"குத்து பாட்டு\",\"மெல்லிசை பாட்டு\", \"சோக பாட்டு\", \"தாலாட்டு\"]\n",
        "  return random.choice(st)"
      ],
      "execution_count": null,
      "outputs": []
    },
    {
      "cell_type": "code",
      "metadata": {
        "id": "mDWKBYVMCWzr",
        "colab_type": "code",
        "colab": {}
      },
      "source": [
        "def eng2tamil(name):\n",
        "  translator= Translator(from_lang=\"english\",to_lang=\"tamil\")\n",
        "  details=json.loads(name)\n",
        "  movie_songs=details.get(\"movie_song\")\n",
        "  output=[]\n",
        "  for movie_song in movie_songs:\n",
        "    out={\n",
        "        \"movie_name\":  details.get(\"movie_name\"), \n",
        "        \"song_name\": song(movie_song.get(\"song_name\")),\n",
        "        \"song_music\":translator.translate(movie_song.get(\"song_music\")),\n",
        "        \"song_lyrics\":translator.translate(movie_song.get(\"song_lyrics\")),\n",
        "        \"song_singers\":translator.translate(movie_song.get(\"song_singers\")),\n",
        "        \"year\":  details.get(\"year\"), \n",
        "        \"actors\": translator.translate(details.get(\"actors\")), \n",
        "        \"song_fulllyrics\": movie_song.get(\"song_fulllyrics\")\n",
        "    }\n",
        "    output.append(out)\n",
        "  if(movie_song.get(\"song_singers\")==''):\n",
        "    return \"song_singers_emtry\"\n",
        "  else:\n",
        "    return output"
      ],
      "execution_count": null,
      "outputs": []
    },
    {
      "cell_type": "code",
      "metadata": {
        "id": "4_OBaCNyDi0w",
        "colab_type": "code",
        "colab": {}
      },
      "source": [
        "myfile = open(\"preprocessed_tamil_songs_lyrics.txt\", \"a\") \n",
        "fh = open(\"tamil_songs_scraped_lyrics.txt\", encoding='utf-8', errors='ignore')\n",
        "for line in fh:\n",
        "  try:\n",
        "    writes=eng2tamil(line)\n",
        "    for write in writes:\n",
        "      myfile.write(str(write)+'\\n')\n",
        "  except:\n",
        "    print(\"Something else went wrong\")"
      ],
      "execution_count": null,
      "outputs": []
    }
  ]
}